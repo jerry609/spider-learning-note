{
 "cells": [
  {
   "metadata": {},
   "cell_type": "markdown",
   "source": [
    "这里是对您提供的正则表达式特殊字符和它们各自描述的整理，以便更好地理解和参考：\n",
    "\n",
    "### 字符类\n",
    "- `\\d` - 代表任意数字，等价于 `[0-9]`。\n",
    "- `\\D` - 匹配非数字字符，与 `\\d` 相反，等价于 `[^0-9]`。\n",
    "- `\\w` - 匹配字母、数字、下划线，等价于 `[a-zA-Z0-9_]`。\n",
    "- `\\W` - 匹配非字母、非数字、非下划线的字符，与 `\\w` 相反，等价于 `[^a-zA-Z0-9_]`。\n",
    "- `\\s` - 匹配所有空白字符，包括空格、制表符、换页符等，等价于 `[ \\t\\n\\r\\f\\v]`。\n",
    "- `\\S` - 匹配所有非空白字符，与 `\\s` 相反，等价于 `[^ \\t\\n\\r\\f\\v]`。\n",
    "- `\\n` - 匹配一个换行符。\n",
    "- `\\r` - 匹配一个回车符。\n",
    "- `\\f` - 匹配一个换页符。\n",
    "- `\\t` - 匹配一个制表符（Tab）。\n",
    "\n",
    "### 定位符\n",
    "- `^` - 匹配输入字符串的开始位置。\n",
    "- `$` - 匹配输入字符串的结束位置。\n",
    "- `\\A` - 匹配字符串的开始（不受多行模式的影响）。\n",
    "- `\\Z` - 匹配字符串的结束或字符串的最后一个换行符之前（不受多行模式的影响）。\n",
    "- `\\b` - 匹配一个单词边界，即字与空格间的位置。\n",
    "- `\\B` - 匹配非单词边界。\n",
    "\n",
    "### 量词\n",
    "- `*` - 匹配前面的子表达式零次或多次，等价于 `{0,}`。\n",
    "- `+` - 匹配前面的子表达式一次或多次，等价于 `{1,}`。\n",
    "- `?` - 匹配前面的子表达式零次或一次，等价于 `{0,1}`。\n",
    "- `{n}` - 匹配前面的子表达式恰好 `n` 次。\n",
    "- `{n,}` - 匹配前面的子表达式至少 `n` 次。\n",
    "- `{n,m}` - 匹配前面的子表达式至少 `n` 次，但不超过 `m` 次。\n",
    "\n",
    "### 字符类（括号表达式）\n",
    "- `[abc]` - 匹配任何一个包含的字符（如 'a', 'b', 或 'c'）。\n",
    "- `[^abc]` - 匹配任何不包含在括号中的字符。\n",
    "- `[a-z]` - 匹配指定范围内的任何小写字母。\n",
    "- `[A-Z]` - 匹配指定范围内的任何大写字母。\n",
    "- `[0-9]` - 匹配指定范围内的任何数字。\n",
    "\n",
    "### 逻辑运算符\n",
    "- `|` - 匹配左边的表达式或右边的表达式（或运算）。\n",
    "- `(expr)` - 匹配 `expr` 并捕获这一匹配。被捕获的子表达式可以在表达式中被调用，或从生成的Matches集合中得到。\n",
    "\n",
    "这些是正则表达式中常用的特殊字符和操作符，掌握这些将有助于构建有效的模式匹配和数据提取表达式。"
   ],
   "id": "74f05eaecdb1ee1a"
  },
  {
   "metadata": {},
   "cell_type": "code",
   "outputs": [],
   "execution_count": 2,
   "source": "import re",
   "id": "9ec5e4bd62b54d28"
  },
  {
   "metadata": {},
   "cell_type": "markdown",
   "source": [
    "{n}：在Python的正则表达式中，`{n}`是一个量词，用来表示前面的元素必须恰好出现 `n` 次。例如，如果你使用正则表达式 `a{3}`，它将匹配包含恰好三个连续的 'a' 的字符串部分，如在 \"aaaaa\" 中匹配 \"aaa\"。\n",
    "\n",
    "这种用法允许你精确指定某个字符或模式应该出现的次数，从而使匹配更具体。"
   ],
   "id": "3afcec29bb987470"
  },
  {
   "metadata": {
    "ExecuteTime": {
     "end_time": "2024-06-30T12:09:04.189586Z",
     "start_time": "2024-06-30T12:09:04.185587Z"
    }
   },
   "cell_type": "code",
   "source": [
    "text = \"I am soooo happy to see you soon in the zoo.\"\n",
    "pattern = re.compile(r'o{3}')\n",
    "matches = pattern.findall(text)\n",
    "print(matches)"
   ],
   "id": "a8c5afc0df5906eb",
   "outputs": [
    {
     "name": "stdout",
     "output_type": "stream",
     "text": [
      "['ooo', 'ooo']\n"
     ]
    }
   ],
   "execution_count": 4
  },
  {
   "cell_type": "code",
   "id": "initial_id",
   "metadata": {
    "collapsed": true,
    "ExecuteTime": {
     "end_time": "2024-06-30T12:00:47.189146Z",
     "start_time": "2024-06-30T12:00:47.182514Z"
    }
   },
   "source": [
    "\n",
    "# 示例字符串\n",
    "text = \"fooooooood\"\n",
    "\n",
    "# 正则表达式\n",
    "pattern = r'o{1,3}'\n",
    "\n",
    "# 搜索匹配项\n",
    "matches = re.findall(pattern, text)\n",
    "\n",
    "print(\"Matches in 'fooooood':\", matches)  # 输出: Matches in 'fooooood': ['ooo', 'ooo']\n"
   ],
   "outputs": [
    {
     "name": "stdout",
     "output_type": "stream",
     "text": [
      "Matches in 'fooooood': ['ooo', 'ooo', 'oo']\n"
     ]
    }
   ],
   "execution_count": 1
  },
  {
   "metadata": {
    "ExecuteTime": {
     "end_time": "2024-06-30T12:24:03.546461Z",
     "start_time": "2024-06-30T12:24:03.543506Z"
    }
   },
   "cell_type": "code",
   "source": "content = 'Xiaoshuaib has 100s bananas'",
   "id": "9d3e874dfcfa0a67",
   "outputs": [],
   "execution_count": 23
  },
  {
   "metadata": {},
   "cell_type": "markdown",
   "source": "匹配'Xiaoshuaib has 100s bananas'里的数字",
   "id": "a9524010541bcb5c"
  },
  {
   "metadata": {},
   "cell_type": "markdown",
   "source": "使用re.match",
   "id": "96c53ab9bc7d861c"
  },
  {
   "metadata": {
    "ExecuteTime": {
     "end_time": "2024-06-30T12:30:54.528943Z",
     "start_time": "2024-06-30T12:30:54.516427Z"
    }
   },
   "cell_type": "code",
   "source": [
    "# 使用贪婪匹配方法\n",
    "# '^Xi.*(\\d+)s.*s$' 解释：\n",
    "#   '^Xi' - 字符串开始的位置匹配'Xi'\n",
    "#   '.*' - 贪婪匹配任意字符（除换行符之外），尽可能多地匹配\n",
    "#   '(\\d+)' - 捕获一个或多个数字（尽可能多地匹配）\n",
    "#   's' - 匹配字母's'\n",
    "#   '.*s$' - 继续贪婪匹配任意字符直到字符串的最后一个's'为止\n",
    "res = re.match('^Xi.*(\\d+)s.*s$', content)\n",
    "if res:\n",
    "    print(res.group(1))  # 输出匹配到的数字\n",
    "else:\n",
    "    print(\"未找到匹配项\")"
   ],
   "id": "7da8b52cfdb6a456",
   "outputs": [
    {
     "name": "stdout",
     "output_type": "stream",
     "text": [
      "0\n"
     ]
    }
   ],
   "execution_count": 29
  },
  {
   "metadata": {},
   "cell_type": "markdown",
   "source": "由于 .* 的贪婪性质。它会匹配尽可能多的字符，包括数字，直到满足表达式的最后一部分，即以 's' 结束的要求。在字符串 \"Xiaoshuaib has 100s bananas\" 中，.* 贪婪地匹配了从 \"Xiaoshuaib has 100\" 一直到 \"s bananas\"，留下最后一个 s 符合模式的 s。这意味着，(\\d+) 并没有机会匹配到 100，因为当它尝试匹配时，100 已经被 .* 包含在内了。",
   "id": "342939026b63b998"
  },
  {
   "metadata": {
    "ExecuteTime": {
     "end_time": "2024-06-30T12:30:51.775843Z",
     "start_time": "2024-06-30T12:30:51.763337Z"
    }
   },
   "cell_type": "code",
   "source": [
    "# 使用非贪婪匹配方法\n",
    "# '^Xi.*?(\\d+)s.*s$' 解释：\n",
    "#   '^Xi' - 字符串开始的位置匹配'Xi'\n",
    "#   '.*?' - 非贪婪匹配任意字符（除换行符之外），尽可能少地匹配，直到遇到后续表达式可以匹配的文本\n",
    "#   '(\\d+)' - 捕获一个或多个数字\n",
    "#   's' - 匹配字母's'\n",
    "#   '.*s$' - 继续贪婪匹配任意字符直到字符串的最后一个's'为止\n",
    "res = re.match('^Xi.*?(\\d+)s.*s$', content)\n",
    "if res:\n",
    "    print(res.group(1))  # 输出匹配到的数字\n",
    "else:\n",
    "    print(\"未找到匹配项\")"
   ],
   "id": "dba56ee3ce1e6e57",
   "outputs": [
    {
     "name": "stdout",
     "output_type": "stream",
     "text": [
      "100\n"
     ]
    }
   ],
   "execution_count": 28
  },
  {
   "metadata": {},
   "cell_type": "markdown",
   "source": "使用re.search",
   "id": "fb341c34345b08da"
  },
  {
   "metadata": {
    "ExecuteTime": {
     "end_time": "2024-06-30T12:18:01.821967Z",
     "start_time": "2024-06-30T12:18:01.805937Z"
    }
   },
   "cell_type": "code",
   "source": [
    "# 使用 search 而不是 match，因为我们的匹配模式不一定从字符串的开头开始\n",
    "res = re.search(r'Xi.*?(\\d+)s.*s$', content)\n",
    "print(res.group(1))  # 输出第一个括号中的匹配\n",
    "\n"
   ],
   "id": "c7c02e584e80e777",
   "outputs": [
    {
     "name": "stdout",
     "output_type": "stream",
     "text": [
      "100\n"
     ]
    }
   ],
   "execution_count": 20
  },
  {
   "metadata": {},
   "cell_type": "markdown",
   "source": [
    "## 如果字符串里面有换行符\n",
    "使用re.S解决"
   ],
   "id": "9d8942038139b9b5"
  },
  {
   "metadata": {
    "ExecuteTime": {
     "end_time": "2024-06-30T12:32:19.149828Z",
     "start_time": "2024-06-30T12:32:19.133313Z"
    }
   },
   "cell_type": "code",
   "source": [
    "content = \"\"\"Xiaoshuaib has 100s\n",
    "bananas\"\"\"\n",
    "res = re.match('^Xi.*?(\\d+)s.*s$',content,re.S)\n",
    "print(res.group(1))"
   ],
   "id": "70d08a8cda74d2cb",
   "outputs": [
    {
     "name": "stdout",
     "output_type": "stream",
     "text": [
      "100\n"
     ]
    }
   ],
   "execution_count": 31
  },
  {
   "metadata": {},
   "cell_type": "markdown",
   "source": [
    "## re.findall\n",
    "匹配所有符合要求的内容"
   ],
   "id": "1477c30afb039576"
  },
  {
   "metadata": {},
   "cell_type": "markdown",
   "source": [
    "在 Python 的 `re` 模块中，标志 `re.S` 和 `re.M` 用来修改正则表达式的行为，以便更灵活地处理字符串。这两个标志经常一起使用来处理包含多行文本的字符串。下面是它们各自的含义及组合使用时的效果：\n",
    "\n",
    "### `re.S`（`re.DOTALL`）\n",
    "- **描述**：使得正则表达式中的点号（`.`）可以匹配任何字符，包括换行符。默认情况下，点号不匹配换行符。\n",
    "- **用途**：当你想让一个模式跨越多行匹配时使用，例如，匹配包含换行符的整段文本。\n",
    "\n",
    "### `re.M`（`re.MULTILINE`）\n",
    "- **描述**：使得锚字符（`^` 和 `$`）不仅匹配字符串的开头和结尾，还匹配每一行的开头和结尾。\n",
    "- **用途**：当你需要在多行字符串中单独匹配每一行的开始或结束时使用。\n",
    "\n",
    "### `re.S | re.M`\n",
    "- **组合使用**：将 `re.S` 和 `re.M` 一起使用时，你的正则表达式既能让点号匹配换行符，也能让 `^` 和 `$` 在每行的开始和结束进行匹配。\n",
    "- **示例**：假设你有一个包含多段文本的字符串，每段文本之间由换行符分隔。如果你想匹配每段文本中的某种模式，同时这种模式可能包含段落内的换行，这时使用 `re.S | re.M` 就非常适合。\n"
   ],
   "id": "a34228610eb57d9d"
  },
  {
   "metadata": {
    "ExecuteTime": {
     "end_time": "2024-06-30T12:43:36.170233Z",
     "start_time": "2024-06-30T12:43:36.155919Z"
    }
   },
   "cell_type": "code",
   "source": [
    "content = \"\"\"Xiaoshuaib has 100 bananas;\n",
    "Xiaoshuaib has 100 bananas;\n",
    "Xiaoshuaib has 100 bananas;\n",
    "Xiaoshuaib has 100 bananas;\"\"\"\n",
    "\n",
    "# 使用正则表达式 '\\d+' 来匹配数字，并确保多行匹配是有效的\n",
    "res = re.findall('Xi.*?(\\d+).*?s;', content, re.S | re.M)\n",
    "print(res)\n"
   ],
   "id": "777651f2d0e72346",
   "outputs": [
    {
     "name": "stdout",
     "output_type": "stream",
     "text": [
      "['100', '100', '100', '100']\n"
     ]
    }
   ],
   "execution_count": 50
  },
  {
   "metadata": {
    "ExecuteTime": {
     "end_time": "2024-06-30T12:43:39.771878Z",
     "start_time": "2024-06-30T12:43:39.762359Z"
    }
   },
   "cell_type": "code",
   "source": [
    "content = re.sub('\\d+','250',content)\n",
    "print(content)"
   ],
   "id": "8bd22e3754400c49",
   "outputs": [
    {
     "name": "stdout",
     "output_type": "stream",
     "text": [
      "Xiaoshuaib has 250 bananas;\n",
      "Xiaoshuaib has 250 bananas;\n",
      "Xiaoshuaib has 250 bananas;\n",
      "Xiaoshuaib has 250 bananas;\n"
     ]
    }
   ],
   "execution_count": 51
  },
  {
   "metadata": {
    "ExecuteTime": {
     "end_time": "2024-06-30T12:44:26.059537Z",
     "start_time": "2024-06-30T12:44:26.056030Z"
    }
   },
   "cell_type": "code",
   "source": [
    "pattern = re.compile('Xi.*?(\\d+).*?s;',re.S)\n",
    "res = re.match(pattern,content)\n",
    "print(res.group(1))"
   ],
   "id": "7781ffb562b22e48",
   "outputs": [
    {
     "name": "stdout",
     "output_type": "stream",
     "text": [
      "250\n"
     ]
    }
   ],
   "execution_count": 52
  }
 ],
 "metadata": {
  "kernelspec": {
   "display_name": "Python 3",
   "language": "python",
   "name": "python3"
  },
  "language_info": {
   "codemirror_mode": {
    "name": "ipython",
    "version": 2
   },
   "file_extension": ".py",
   "mimetype": "text/x-python",
   "name": "python",
   "nbconvert_exporter": "python",
   "pygments_lexer": "ipython2",
   "version": "2.7.6"
  }
 },
 "nbformat": 4,
 "nbformat_minor": 5
}
