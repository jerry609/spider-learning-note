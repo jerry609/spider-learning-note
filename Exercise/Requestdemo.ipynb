{
 "cells": [
  {
   "cell_type": "code",
   "id": "initial_id",
   "metadata": {
    "collapsed": true,
    "ExecuteTime": {
     "end_time": "2024-06-28T07:33:39.093107Z",
     "start_time": "2024-06-28T07:33:32.581461Z"
    }
   },
   "source": [
    "import requests\n",
    "\n",
    "# get请求\n",
    "r = requests.get('https://api.github.com/events')\n",
    "\n",
    "# post请求\n",
    "r = requests.post('https://httpbin.org/post', data = {'key':'value'})\n",
    "\n",
    "# put请求\n",
    "r = requests.put('https://httpbin.org/put', data = {'key':'value'})\n",
    "\n",
    "# delete请求\n",
    "r = requests.delete('https://httpbin.org/delete')\n",
    "\n",
    "# head请求\n",
    "r = requests.head('https://httpbin.org/get')\n",
    "\n",
    "# options请求\n",
    "r = requests.options('https://httpbin.org/get')"
   ],
   "outputs": [],
   "execution_count": 1
  },
  {
   "metadata": {},
   "cell_type": "markdown",
   "source": "## 携带请求参数",
   "id": "b02374f4b1fd52d1"
  },
  {
   "metadata": {
    "ExecuteTime": {
     "end_time": "2024-06-28T07:39:29.074639Z",
     "start_time": "2024-06-28T07:39:28.096364Z"
    }
   },
   "cell_type": "code",
   "source": [
    "pl = {'key':'value'}\n",
    "r = requests.get('https://httpbin.org/get', params=pl)"
   ],
   "id": "6e1d3144fa2704d6",
   "outputs": [],
   "execution_count": 3
  },
  {
   "metadata": {},
   "cell_type": "markdown",
   "source": "## 假装自己是浏览器",
   "id": "55c9871a14b27c03"
  },
  {
   "metadata": {
    "ExecuteTime": {
     "end_time": "2024-06-28T07:40:04.205925Z",
     "start_time": "2024-06-28T07:40:03.498135Z"
    }
   },
   "cell_type": "code",
   "source": [
    "url = 'https://api.github.com/some/endpoint'\n",
    "headers = {'user-agent': 'Mozilla/5.0'}\n",
    "r = requests.get(url, headers=headers)"
   ],
   "id": "100b34d833c06b7a",
   "outputs": [],
   "execution_count": 4
  },
  {
   "metadata": {},
   "cell_type": "markdown",
   "source": "## 获取服务器响应文本内容",
   "id": "cc79642cb608c2a8"
  },
  {
   "metadata": {},
   "cell_type": "code",
   "source": [
    "r = requests.get('https://api.github.com/events')\n",
    "r.text"
   ],
   "id": "9c435f7a63b7950f",
   "outputs": [],
   "execution_count": null
  },
  {
   "metadata": {
    "ExecuteTime": {
     "end_time": "2024-06-28T07:40:41.927900Z",
     "start_time": "2024-06-28T07:40:41.923899Z"
    }
   },
   "cell_type": "code",
   "source": "r.encoding",
   "id": "cbd7b31aa8715a22",
   "outputs": [
    {
     "data": {
      "text/plain": [
       "'utf-8'"
      ]
     },
     "execution_count": 6,
     "metadata": {},
     "output_type": "execute_result"
    }
   ],
   "execution_count": 6
  },
  {
   "metadata": {},
   "cell_type": "markdown",
   "source": "## 获取字节响应内容",
   "id": "86cbfcf9120302d3"
  },
  {
   "metadata": {},
   "cell_type": "code",
   "source": "r.content",
   "id": "e98bf5aea641ac67",
   "outputs": [],
   "execution_count": null
  },
  {
   "metadata": {},
   "cell_type": "markdown",
   "source": [
    "在处理服务器响应时，了解响应的文本内容和字节响应内容之间的区别是非常重要的，特别是在网络编程和数据处理领域。以下是这两者的主要区别：\n",
    "\n",
    "### 文本内容（Text Response）\n",
    "- **定义**：文本内容通常指的是经过字符编码解码（如UTF-8、ASCII等）的字符串。这意味着原始的二进制响应数据被解释为人类可读的文本。\n",
    "- **用途**：当响应内容是以文本形式表示的数据（如HTML、XML、JSON等）时，获取文本内容是非常有用的。这允许程序直接处理和操作这些数据，如解析HTML或JSON。\n",
    "- **获取方式**：在Python的`requests`库中，可以通过`.text`属性来访问响应的文本内容。这个属性会自动使用响应头部的`charset`编码来解码响应体。\n",
    "\n",
    "### 字节响应内容（Byte Response）\n",
    "- **定义**：字节响应内容指的是服务器原始的二进制数据，未经任何编码转换。这是数据的原始形式。\n",
    "- **用途**：当响应内容包含非文本数据（如图片、视频、二进制文件等）或当你需要自己控制数据的编码解码时，获取字节内容是必要的。这也适用于需要精确处理响应数据的场景，例如数据完整性验证或低级数据操作。\n",
    "- **获取方式**：在Python的`requests`库中，可以通过`.content`属性来访问原始的字节响应。这对于处理那些不是纯文本格式的响应尤为重要。\n",
    "\n",
    "### 示例\n",
    "假设你正在使用Python的`requests`库从一个网页获取数据。以下是如何获取文本和字节响应的示例：\n",
    "\n",
    "```python\n",
    "import requests\n",
    "\n",
    "# 向服务器发送GET请求\n",
    "response = requests.get('http://example.com')\n",
    "\n",
    "# 获取文本响应内容\n",
    "text_data = response.text\n",
    "\n",
    "# 获取字节响应内容\n",
    "byte_data = response.content\n",
    "```\n",
    "\n",
    "### 总结\n",
    "选择使用文本内容还是字节内容取决于你的具体需求：\n",
    "- **文本内容**：当你知道响应是文本并且需要以字符串形式处理时。\n",
    "- **字节内容**：当你处理的是二进制数据或当文本数据的编码不确定时，你可能需要自己手动处理编码。\n",
    "\n",
    "正确理解和使用这两种数据类型可以帮助你更有效地处理不同类型的网络响应，确保数据处理的准确性和效率。"
   ],
   "id": "48b12c3874fd5e4f"
  },
  {
   "metadata": {},
   "cell_type": "markdown",
   "source": "## 获取响应码",
   "id": "ff57640a643be9c0"
  },
  {
   "metadata": {
    "ExecuteTime": {
     "end_time": "2024-06-28T07:43:51.120478Z",
     "start_time": "2024-06-28T07:43:50.099865Z"
    }
   },
   "cell_type": "code",
   "source": [
    "r = requests.get('https://httpbin.org/get')\n",
    "r.status_code"
   ],
   "id": "67fb7bfab2e78042",
   "outputs": [
    {
     "data": {
      "text/plain": [
       "200"
      ]
     },
     "execution_count": 8,
     "metadata": {},
     "output_type": "execute_result"
    }
   ],
   "execution_count": 8
  },
  {
   "metadata": {},
   "cell_type": "markdown",
   "source": "## 获取响应头",
   "id": "d682ee5fc309321d"
  },
  {
   "metadata": {
    "ExecuteTime": {
     "end_time": "2024-06-28T07:43:54.617682Z",
     "start_time": "2024-06-28T07:43:54.605682Z"
    }
   },
   "cell_type": "code",
   "source": "r.headers",
   "id": "e6ff6b3bc2cfe8a",
   "outputs": [
    {
     "data": {
      "text/plain": [
       "{'Date': 'Fri, 28 Jun 2024 07:43:45 GMT', 'Content-Type': 'application/json', 'Content-Length': '307', 'Connection': 'keep-alive', 'Server': 'gunicorn/19.9.0', 'Access-Control-Allow-Origin': '*', 'Access-Control-Allow-Credentials': 'true'}"
      ]
     },
     "execution_count": 9,
     "metadata": {},
     "output_type": "execute_result"
    }
   ],
   "execution_count": 9
  },
  {
   "metadata": {},
   "cell_type": "markdown",
   "source": "## 获取 Json 响应内容",
   "id": "dc3a694150d6b8ee"
  },
  {
   "metadata": {},
   "cell_type": "code",
   "source": [
    "r = requests.get('https://api.github.com/events')\n",
    "r.json()"
   ],
   "id": "cacad1f59407fd56",
   "outputs": [],
   "execution_count": null
  },
  {
   "metadata": {},
   "cell_type": "markdown",
   "source": "## 获取 socket 流响应内容",
   "id": "20e80b389cb39632"
  },
  {
   "metadata": {
    "ExecuteTime": {
     "end_time": "2024-06-28T07:45:11.386449Z",
     "start_time": "2024-06-28T07:45:10.530074Z"
    }
   },
   "cell_type": "code",
   "source": [
    "r = requests.get('https://api.github.com/events', stream=True)\n",
    "r.raw"
   ],
   "id": "bcb0c3d1a09c372f",
   "outputs": [
    {
     "data": {
      "text/plain": [
       "<urllib3.response.HTTPResponse at 0x1f9f659c610>"
      ]
     },
     "execution_count": 11,
     "metadata": {},
     "output_type": "execute_result"
    }
   ],
   "execution_count": 11
  },
  {
   "metadata": {
    "ExecuteTime": {
     "end_time": "2024-06-28T07:46:36.494249Z",
     "start_time": "2024-06-28T07:46:36.481249Z"
    }
   },
   "cell_type": "code",
   "source": "r.raw.read(10)",
   "id": "5d4fa7efab6859a9",
   "outputs": [
    {
     "data": {
      "text/plain": [
       "b'\\x1f\\x8b\\x08\\x00\\x00\\x00\\x00\\x00\\x00\\x03'"
      ]
     },
     "execution_count": 13,
     "metadata": {},
     "output_type": "execute_result"
    }
   ],
   "execution_count": 13
  },
  {
   "metadata": {},
   "cell_type": "markdown",
   "source": "## Post请求，当你想要一个键里面添加多个值的时候",
   "id": "8e3d06ad3420c9e0"
  },
  {
   "metadata": {
    "ExecuteTime": {
     "end_time": "2024-06-28T07:54:10.462495Z",
     "start_time": "2024-06-28T07:54:08.309371Z"
    }
   },
   "cell_type": "code",
   "source": [
    "payload_tuples = [('key1', 'value1'), ('key1', 'value2')]\n",
    "r1 = requests.post('https://httpbin.org/post', data=payload_tuples)\n",
    "payload_dict = {'key1': ['value1', 'value2']}\n",
    "r2 = requests.post('https://httpbin.org/post', data=payload_dict)\n",
    "print(r1.text)\n",
    "r1.text == r2.text"
   ],
   "id": "d11582f649a1346b",
   "outputs": [
    {
     "name": "stdout",
     "output_type": "stream",
     "text": [
      "{\n",
      "  \"args\": {}, \n",
      "  \"data\": \"\", \n",
      "  \"files\": {}, \n",
      "  \"form\": {\n",
      "    \"key1\": [\n",
      "      \"value1\", \n",
      "      \"value2\"\n",
      "    ]\n",
      "  }, \n",
      "  \"headers\": {\n",
      "    \"Accept\": \"*/*\", \n",
      "    \"Accept-Encoding\": \"gzip, deflate\", \n",
      "    \"Content-Length\": \"23\", \n",
      "    \"Content-Type\": \"application/x-www-form-urlencoded\", \n",
      "    \"Host\": \"httpbin.org\", \n",
      "    \"User-Agent\": \"python-requests/2.32.3\", \n",
      "    \"X-Amzn-Trace-Id\": \"Root=1-667e6c1b-781f55f77e7b43b72e1dbfca\"\n",
      "  }, \n",
      "  \"json\": null, \n",
      "  \"origin\": \"74.207.240.85\", \n",
      "  \"url\": \"https://httpbin.org/post\"\n",
      "}\n",
      "\n"
     ]
    },
    {
     "data": {
      "text/plain": [
       "False"
      ]
     },
     "execution_count": 20,
     "metadata": {},
     "output_type": "execute_result"
    }
   ],
   "execution_count": 20
  },
  {
   "metadata": {},
   "cell_type": "markdown",
   "source": "## 请求的时候用 json 作为参数",
   "id": "21045ef40ff9bc6"
  },
  {
   "metadata": {
    "ExecuteTime": {
     "end_time": "2024-06-28T07:54:42.522610Z",
     "start_time": "2024-06-28T07:54:41.830820Z"
    }
   },
   "cell_type": "code",
   "source": [
    "url = 'https://api.github.com/some/endpoint'\n",
    "\n",
    "payload = {'some': 'data'}\n",
    "\n",
    "r = requests.post(url, json=payload)"
   ],
   "id": "cddf3f955a238362",
   "outputs": [],
   "execution_count": 21
  },
  {
   "metadata": {},
   "cell_type": "markdown",
   "source": "## 想上传文件？",
   "id": "f0d55ee22130a7f0"
  },
  {
   "metadata": {
    "ExecuteTime": {
     "end_time": "2024-06-28T07:52:58.748636Z",
     "start_time": "2024-06-28T07:52:58.708635Z"
    }
   },
   "cell_type": "code",
   "source": [
    "url = 'https://httpbin.org/post'\n",
    "files = {'file':open('reports.xls','rb')}\n",
    "r = requests.post(url, files=files)\n",
    "r.text"
   ],
   "id": "a117b2278273690",
   "outputs": [
    {
     "ename": "FileNotFoundError",
     "evalue": "[Errno 2] No such file or directory: 'reports.xls'",
     "output_type": "error",
     "traceback": [
      "\u001B[1;31m---------------------------------------------------------------------------\u001B[0m",
      "\u001B[1;31mFileNotFoundError\u001B[0m                         Traceback (most recent call last)",
      "Cell \u001B[1;32mIn[19], line 2\u001B[0m\n\u001B[0;32m      1\u001B[0m url \u001B[38;5;241m=\u001B[39m \u001B[38;5;124m'\u001B[39m\u001B[38;5;124mhttps://httpbin.org/post\u001B[39m\u001B[38;5;124m'\u001B[39m\n\u001B[1;32m----> 2\u001B[0m files \u001B[38;5;241m=\u001B[39m {\u001B[38;5;124m'\u001B[39m\u001B[38;5;124mfile\u001B[39m\u001B[38;5;124m'\u001B[39m:\u001B[38;5;28;43mopen\u001B[39;49m\u001B[43m(\u001B[49m\u001B[38;5;124;43m'\u001B[39;49m\u001B[38;5;124;43mreports.xls\u001B[39;49m\u001B[38;5;124;43m'\u001B[39;49m\u001B[43m,\u001B[49m\u001B[38;5;124;43m'\u001B[39;49m\u001B[38;5;124;43mrb\u001B[39;49m\u001B[38;5;124;43m'\u001B[39;49m\u001B[43m)\u001B[49m}\n\u001B[0;32m      3\u001B[0m r \u001B[38;5;241m=\u001B[39m requests\u001B[38;5;241m.\u001B[39mpost(url, files\u001B[38;5;241m=\u001B[39mfiles)\n\u001B[0;32m      4\u001B[0m r\u001B[38;5;241m.\u001B[39mtext\n",
      "File \u001B[1;32mD:\\anaconda3\\envs\\LLM-Explore\\lib\\site-packages\\IPython\\core\\interactiveshell.py:310\u001B[0m, in \u001B[0;36m_modified_open\u001B[1;34m(file, *args, **kwargs)\u001B[0m\n\u001B[0;32m    303\u001B[0m \u001B[38;5;28;01mif\u001B[39;00m file \u001B[38;5;129;01min\u001B[39;00m {\u001B[38;5;241m0\u001B[39m, \u001B[38;5;241m1\u001B[39m, \u001B[38;5;241m2\u001B[39m}:\n\u001B[0;32m    304\u001B[0m     \u001B[38;5;28;01mraise\u001B[39;00m \u001B[38;5;167;01mValueError\u001B[39;00m(\n\u001B[0;32m    305\u001B[0m         \u001B[38;5;124mf\u001B[39m\u001B[38;5;124m\"\u001B[39m\u001B[38;5;124mIPython won\u001B[39m\u001B[38;5;124m'\u001B[39m\u001B[38;5;124mt let you open fd=\u001B[39m\u001B[38;5;132;01m{\u001B[39;00mfile\u001B[38;5;132;01m}\u001B[39;00m\u001B[38;5;124m by default \u001B[39m\u001B[38;5;124m\"\u001B[39m\n\u001B[0;32m    306\u001B[0m         \u001B[38;5;124m\"\u001B[39m\u001B[38;5;124mas it is likely to crash IPython. If you know what you are doing, \u001B[39m\u001B[38;5;124m\"\u001B[39m\n\u001B[0;32m    307\u001B[0m         \u001B[38;5;124m\"\u001B[39m\u001B[38;5;124myou can use builtins\u001B[39m\u001B[38;5;124m'\u001B[39m\u001B[38;5;124m open.\u001B[39m\u001B[38;5;124m\"\u001B[39m\n\u001B[0;32m    308\u001B[0m     )\n\u001B[1;32m--> 310\u001B[0m \u001B[38;5;28;01mreturn\u001B[39;00m io_open(file, \u001B[38;5;241m*\u001B[39margs, \u001B[38;5;241m*\u001B[39m\u001B[38;5;241m*\u001B[39mkwargs)\n",
      "\u001B[1;31mFileNotFoundError\u001B[0m: [Errno 2] No such file or directory: 'reports.xls'"
     ]
    }
   ],
   "execution_count": 19
  },
  {
   "metadata": {},
   "cell_type": "markdown",
   "source": "## 获取 cookie 信息",
   "id": "4651cae71959115f"
  },
  {
   "metadata": {
    "ExecuteTime": {
     "end_time": "2024-06-28T07:50:53.292597Z",
     "start_time": "2024-06-28T07:50:52.900908Z"
    }
   },
   "cell_type": "code",
   "source": [
    "url = 'http://example.com/some/cookie/setting/url'\n",
    "r = requests.get(url)\n",
    "r.cookies"
   ],
   "id": "f8df015c5074bce5",
   "outputs": [
    {
     "data": {
      "text/plain": [
       "<RequestsCookieJar[]>"
      ]
     },
     "execution_count": 15,
     "metadata": {},
     "output_type": "execute_result"
    }
   ],
   "execution_count": 15
  },
  {
   "metadata": {},
   "cell_type": "markdown",
   "source": "## 发送 cookie 信息",
   "id": "576782ce88be001f"
  },
  {
   "metadata": {
    "ExecuteTime": {
     "end_time": "2024-06-28T07:51:19.533927Z",
     "start_time": "2024-06-28T07:51:18.530692Z"
    }
   },
   "cell_type": "code",
   "source": [
    "url = 'https://httpbin.org/cookies'\n",
    "cookies = dict(cookies_are='working')\n",
    "r = requests.get(url, cookies=cookies)\n",
    "r.text"
   ],
   "id": "873efd0730b1ef5c",
   "outputs": [
    {
     "data": {
      "text/plain": [
       "'{\\n  \"cookies\": {\\n    \"cookies_are\": \"working\"\\n  }\\n}\\n'"
      ]
     },
     "execution_count": 16,
     "metadata": {},
     "output_type": "execute_result"
    }
   ],
   "execution_count": 16
  },
  {
   "metadata": {},
   "cell_type": "markdown",
   "source": "## 设置超时",
   "id": "557703edc87fe2be"
  },
  {
   "metadata": {
    "ExecuteTime": {
     "end_time": "2024-06-28T07:51:48.139467Z",
     "start_time": "2024-06-28T07:51:47.240195Z"
    }
   },
   "cell_type": "code",
   "source": "requests.get('https://github.com/', timeout=1)",
   "id": "46fbf7a827c3f0f2",
   "outputs": [
    {
     "data": {
      "text/plain": [
       "<Response [200]>"
      ]
     },
     "execution_count": 18,
     "metadata": {},
     "output_type": "execute_result"
    }
   ],
   "execution_count": 18
  },
  {
   "metadata": {
    "ExecuteTime": {
     "end_time": "2024-06-28T08:01:57.676160Z",
     "start_time": "2024-06-28T08:01:56.713062Z"
    }
   },
   "cell_type": "code",
   "source": [
    "import requests\n",
    "\n",
    "r = requests.get('https://api.github.com/events')\n",
    "\n",
    "print(r.status_code)  # HTTP状态码\n",
    "print(r.headers['content-type'])  # 响应头中的Content-Type\n",
    "print(r.url)  # 请求的URL\n",
    "print(r.history)  # 重定向历史\n",
    "print(r.encoding)  # 响应使用的编码\n",
    "\n",
    "# if r.status_code == 200:\n",
    "#     print(r.json())  # 将JSON响应转换为字典\n",
    "\n",
    "r.raise_for_status()  # 检查是否有HTTP错误\n"
   ],
   "id": "a88c360ca64fac16",
   "outputs": [
    {
     "name": "stdout",
     "output_type": "stream",
     "text": [
      "200\n",
      "application/json; charset=utf-8\n",
      "https://api.github.com/events\n",
      "[]\n",
      "utf-8\n"
     ]
    }
   ],
   "execution_count": 24
  }
 ],
 "metadata": {
  "kernelspec": {
   "display_name": "Python 3",
   "language": "python",
   "name": "python3"
  },
  "language_info": {
   "codemirror_mode": {
    "name": "ipython",
    "version": 2
   },
   "file_extension": ".py",
   "mimetype": "text/x-python",
   "name": "python",
   "nbconvert_exporter": "python",
   "pygments_lexer": "ipython2",
   "version": "2.7.6"
  }
 },
 "nbformat": 4,
 "nbformat_minor": 5
}
